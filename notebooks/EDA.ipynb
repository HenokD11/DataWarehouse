{
 "cells": [
  {
   "cell_type": "code",
   "execution_count": 1,
   "metadata": {},
   "outputs": [],
   "source": [
    "import pandas as pd\n",
    "import sys\n",
    "sys.path.append(\"../scripts/\")\n",
    "from loader import Extractor"
   ]
  },
  {
   "cell_type": "code",
   "execution_count": 3,
   "metadata": {},
   "outputs": [],
   "source": [
    "data_extractor=Extractor()"
   ]
  },
  {
   "cell_type": "code",
   "execution_count": 13,
   "metadata": {},
   "outputs": [
    {
     "name": "stderr",
     "output_type": "stream",
     "text": [
      "c:\\Users\\hp\\AppData\\Local\\Programs\\Python\\Python38\\lib\\site-packages\\pandas\\util\\_decorators.py:311: ParserWarning: Falling back to the 'python' engine because the 'c' engine does not support regex separators (separators > 1 char and different from '\\s+' are interpreted as regex); you can avoid this warning by specifying engine='python'.\n",
      "  return func(*args, **kwargs)\n",
      "c:\\Users\\hp\\AppData\\Local\\Programs\\Python\\Python38\\lib\\site-packages\\IPython\\core\\interactiveshell.py:3251: FutureWarning: The error_bad_lines argument has been deprecated and will be removed in a future version.\n",
      "\n",
      "\n",
      "  exec(code_obj, self.user_global_ns, self.user_ns)\n",
      "c:\\Users\\hp\\AppData\\Local\\Programs\\Python\\Python38\\lib\\site-packages\\pandas\\io\\parsers\\readers.py:586: ParserWarning: Length of header or names does not match length of data. This leads to a loss of data with index_col=False.\n",
      "  return _read(filepath_or_buffer, kwds)\n"
     ]
    }
   ],
   "source": [
    "dff = pd.read_csv('../data/20181030_d1_0930_1000.csv', sep=\"[,;:]\", index_col=False, error_bad_lines=False)"
   ]
  },
  {
   "cell_type": "code",
   "execution_count": 14,
   "metadata": {},
   "outputs": [
    {
     "data": {
      "text/plain": [
       "(1202, 10)"
      ]
     },
     "execution_count": 14,
     "metadata": {},
     "output_type": "execute_result"
    }
   ],
   "source": [
    "dff.shape"
   ]
  },
  {
   "cell_type": "code",
   "execution_count": 15,
   "metadata": {},
   "outputs": [
    {
     "data": {
      "text/html": [
       "<div>\n",
       "<style scoped>\n",
       "    .dataframe tbody tr th:only-of-type {\n",
       "        vertical-align: middle;\n",
       "    }\n",
       "\n",
       "    .dataframe tbody tr th {\n",
       "        vertical-align: top;\n",
       "    }\n",
       "\n",
       "    .dataframe thead th {\n",
       "        text-align: right;\n",
       "    }\n",
       "</style>\n",
       "<table border=\"1\" class=\"dataframe\">\n",
       "  <thead>\n",
       "    <tr style=\"text-align: right;\">\n",
       "      <th></th>\n",
       "      <th>track_id</th>\n",
       "      <th>type</th>\n",
       "      <th>traveled_d</th>\n",
       "      <th>avg_speed</th>\n",
       "      <th>lat</th>\n",
       "      <th>lon</th>\n",
       "      <th>speed</th>\n",
       "      <th>lon_acc</th>\n",
       "      <th>lat_acc</th>\n",
       "      <th>time</th>\n",
       "    </tr>\n",
       "  </thead>\n",
       "  <tbody>\n",
       "    <tr>\n",
       "      <th>0</th>\n",
       "      <td>1</td>\n",
       "      <td>Car</td>\n",
       "      <td>12.17</td>\n",
       "      <td>24.330972</td>\n",
       "      <td>37.977300</td>\n",
       "      <td>23.737767</td>\n",
       "      <td>25.7332</td>\n",
       "      <td>0.0254</td>\n",
       "      <td>0.1825</td>\n",
       "      <td>0.0</td>\n",
       "    </tr>\n",
       "    <tr>\n",
       "      <th>1</th>\n",
       "      <td>2</td>\n",
       "      <td>Motorcycle</td>\n",
       "      <td>20.23</td>\n",
       "      <td>24.277923</td>\n",
       "      <td>37.977367</td>\n",
       "      <td>23.737718</td>\n",
       "      <td>25.7179</td>\n",
       "      <td>0.0313</td>\n",
       "      <td>0.0632</td>\n",
       "      <td>0.0</td>\n",
       "    </tr>\n",
       "    <tr>\n",
       "      <th>2</th>\n",
       "      <td>3</td>\n",
       "      <td>Car</td>\n",
       "      <td>35.51</td>\n",
       "      <td>4.992897</td>\n",
       "      <td>37.977499</td>\n",
       "      <td>23.737686</td>\n",
       "      <td>26.7244</td>\n",
       "      <td>0.1780</td>\n",
       "      <td>0.2295</td>\n",
       "      <td>0.0</td>\n",
       "    </tr>\n",
       "    <tr>\n",
       "      <th>3</th>\n",
       "      <td>4</td>\n",
       "      <td>Car</td>\n",
       "      <td>46.01</td>\n",
       "      <td>5.595667</td>\n",
       "      <td>37.977569</td>\n",
       "      <td>23.737615</td>\n",
       "      <td>14.5899</td>\n",
       "      <td>-0.0727</td>\n",
       "      <td>-0.0416</td>\n",
       "      <td>0.0</td>\n",
       "    </tr>\n",
       "    <tr>\n",
       "      <th>4</th>\n",
       "      <td>5</td>\n",
       "      <td>Car</td>\n",
       "      <td>98.59</td>\n",
       "      <td>10.438637</td>\n",
       "      <td>37.977913</td>\n",
       "      <td>23.737224</td>\n",
       "      <td>0.0000</td>\n",
       "      <td>-0.0000</td>\n",
       "      <td>0.0000</td>\n",
       "      <td>0.0</td>\n",
       "    </tr>\n",
       "  </tbody>\n",
       "</table>\n",
       "</div>"
      ],
      "text/plain": [
       "   track_id         type   traveled_d   avg_speed        lat        lon  \\\n",
       "0         1          Car        12.17   24.330972  37.977300  23.737767   \n",
       "1         2   Motorcycle        20.23   24.277923  37.977367  23.737718   \n",
       "2         3          Car        35.51    4.992897  37.977499  23.737686   \n",
       "3         4          Car        46.01    5.595667  37.977569  23.737615   \n",
       "4         5          Car        98.59   10.438637  37.977913  23.737224   \n",
       "\n",
       "     speed   lon_acc   lat_acc   time  \n",
       "0  25.7332    0.0254    0.1825    0.0  \n",
       "1  25.7179    0.0313    0.0632    0.0  \n",
       "2  26.7244    0.1780    0.2295    0.0  \n",
       "3  14.5899   -0.0727   -0.0416    0.0  \n",
       "4   0.0000   -0.0000    0.0000    0.0  "
      ]
     },
     "execution_count": 15,
     "metadata": {},
     "output_type": "execute_result"
    }
   ],
   "source": [
    "dff.head()"
   ]
  },
  {
   "cell_type": "code",
   "execution_count": 16,
   "metadata": {},
   "outputs": [
    {
     "name": "stdout",
     "output_type": "stream",
     "text": [
      "<class 'pandas.core.frame.DataFrame'>\n",
      "RangeIndex: 1202 entries, 0 to 1201\n",
      "Data columns (total 10 columns):\n",
      " #   Column       Non-Null Count  Dtype  \n",
      "---  ------       --------------  -----  \n",
      " 0   track_id     1202 non-null   int64  \n",
      " 1    type        1202 non-null   object \n",
      " 2    traveled_d  1202 non-null   float64\n",
      " 3    avg_speed   1202 non-null   float64\n",
      " 4    lat         1202 non-null   float64\n",
      " 5    lon         1202 non-null   float64\n",
      " 6    speed       1202 non-null   float64\n",
      " 7    lon_acc     1202 non-null   float64\n",
      " 8    lat_acc     1202 non-null   float64\n",
      " 9    time        1202 non-null   float64\n",
      "dtypes: float64(8), int64(1), object(1)\n",
      "memory usage: 94.0+ KB\n"
     ]
    }
   ],
   "source": [
    "dff.info()"
   ]
  },
  {
   "cell_type": "code",
   "execution_count": 17,
   "metadata": {},
   "outputs": [
    {
     "data": {
      "text/plain": [
       " Car               456\n",
       " Motorcycle        385\n",
       " Taxi              276\n",
       " Medium Vehicle     46\n",
       " Bus                31\n",
       " Heavy Vehicle       8\n",
       "Name:  type, dtype: int64"
      ]
     },
     "execution_count": 17,
     "metadata": {},
     "output_type": "execute_result"
    }
   ],
   "source": [
    "dff[' type'].value_counts()"
   ]
  },
  {
   "cell_type": "markdown",
   "metadata": {},
   "source": [
    "`Most of the vehicle types identified are of type car & Motorcycle`"
   ]
  },
  {
   "cell_type": "code",
   "execution_count": 12,
   "metadata": {},
   "outputs": [
    {
     "data": {
      "text/plain": [
       "Index(['track_id; type; traveled_d; avg_speed; lat; lon; speed; lon_acc; lat_acc; time'], dtype='object')"
      ]
     },
     "execution_count": 12,
     "metadata": {},
     "output_type": "execute_result"
    }
   ],
   "source": [
    "dff.columns"
   ]
  },
  {
   "cell_type": "code",
   "execution_count": null,
   "metadata": {},
   "outputs": [],
   "source": []
  },
  {
   "cell_type": "code",
   "execution_count": null,
   "metadata": {},
   "outputs": [],
   "source": []
  },
  {
   "cell_type": "code",
   "execution_count": null,
   "metadata": {},
   "outputs": [],
   "source": []
  },
  {
   "cell_type": "code",
   "execution_count": null,
   "metadata": {},
   "outputs": [],
   "source": []
  }
 ],
 "metadata": {
  "kernelspec": {
   "display_name": "Python 3.8.10 64-bit",
   "language": "python",
   "name": "python3"
  },
  "language_info": {
   "codemirror_mode": {
    "name": "ipython",
    "version": 3
   },
   "file_extension": ".py",
   "mimetype": "text/x-python",
   "name": "python",
   "nbconvert_exporter": "python",
   "pygments_lexer": "ipython3",
   "version": "3.8.10"
  },
  "orig_nbformat": 4,
  "vscode": {
   "interpreter": {
    "hash": "892b1dbae191cb403baa4bf29e539705d2bb168fb9a756bde180b5b738f682b9"
   }
  }
 },
 "nbformat": 4,
 "nbformat_minor": 2
}
